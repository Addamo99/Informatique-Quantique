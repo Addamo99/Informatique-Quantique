{
 "cells": [
  {
   "cell_type": "code",
   "execution_count": 1,
   "metadata": {},
   "outputs": [
    {
     "name": "stdout",
     "output_type": "stream",
     "text": [
      "Requirement already satisfied: qiskit in c:\\users\\adam\\anaconda3\\lib\\site-packages (1.4.1)\n",
      "Requirement already satisfied: rustworkx>=0.15.0 in c:\\users\\adam\\anaconda3\\lib\\site-packages (from qiskit) (0.16.0)\n",
      "Requirement already satisfied: numpy<3,>=1.17 in c:\\users\\adam\\anaconda3\\lib\\site-packages (from qiskit) (1.24.4)\n",
      "Requirement already satisfied: scipy>=1.5 in c:\\users\\adam\\anaconda3\\lib\\site-packages (from qiskit) (1.10.0)\n",
      "Requirement already satisfied: sympy>=1.3 in c:\\users\\adam\\anaconda3\\lib\\site-packages (from qiskit) (1.13.1)\n",
      "Requirement already satisfied: dill>=0.3 in c:\\users\\adam\\anaconda3\\lib\\site-packages (from qiskit) (0.3.6)\n",
      "Requirement already satisfied: python-dateutil>=2.8.0 in c:\\users\\adam\\anaconda3\\lib\\site-packages (from qiskit) (2.9.0.post0)\n",
      "Requirement already satisfied: stevedore>=3.0.0 in c:\\users\\adam\\anaconda3\\lib\\site-packages (from qiskit) (5.4.1)\n",
      "Requirement already satisfied: typing-extensions in c:\\users\\adam\\anaconda3\\lib\\site-packages (from qiskit) (4.12.2)\n",
      "Requirement already satisfied: symengine<0.14,>=0.11 in c:\\users\\adam\\anaconda3\\lib\\site-packages (from qiskit) (0.13.0)\n",
      "Requirement already satisfied: six>=1.5 in c:\\users\\adam\\anaconda3\\lib\\site-packages (from python-dateutil>=2.8.0->qiskit) (1.16.0)\n",
      "Requirement already satisfied: pbr>=2.0.0 in c:\\users\\adam\\anaconda3\\lib\\site-packages (from stevedore>=3.0.0->qiskit) (6.1.1)\n",
      "Requirement already satisfied: mpmath<1.4,>=1.1.0 in c:\\users\\adam\\anaconda3\\lib\\site-packages (from sympy>=1.3->qiskit) (1.3.0)\n",
      "Requirement already satisfied: setuptools in c:\\users\\adam\\anaconda3\\lib\\site-packages (from pbr>=2.0.0->stevedore>=3.0.0->qiskit) (75.8.0)\n",
      "Note: you may need to restart the kernel to use updated packages.\n"
     ]
    }
   ],
   "source": [
    "pip install qiskit"
   ]
  },
  {
   "cell_type": "code",
   "execution_count": 2,
   "metadata": {},
   "outputs": [
    {
     "name": "stdout",
     "output_type": "stream",
     "text": [
      "Collecting qiskit-ibm-runtime\n",
      "  Downloading qiskit_ibm_runtime-0.37.0-py3-none-any.whl.metadata (20 kB)\n",
      "Requirement already satisfied: requests>=2.19 in c:\\users\\adam\\anaconda3\\lib\\site-packages (from qiskit-ibm-runtime) (2.32.3)\n",
      "Collecting requests-ntlm>=1.1.0 (from qiskit-ibm-runtime)\n",
      "  Downloading requests_ntlm-1.3.0-py3-none-any.whl.metadata (2.4 kB)\n",
      "Requirement already satisfied: numpy>=1.13 in c:\\users\\adam\\anaconda3\\lib\\site-packages (from qiskit-ibm-runtime) (1.24.4)\n",
      "Requirement already satisfied: urllib3>=1.21.1 in c:\\users\\adam\\anaconda3\\lib\\site-packages (from qiskit-ibm-runtime) (1.26.19)\n",
      "Requirement already satisfied: python-dateutil>=2.8.0 in c:\\users\\adam\\anaconda3\\lib\\site-packages (from qiskit-ibm-runtime) (2.9.0.post0)\n",
      "Requirement already satisfied: websocket-client>=1.5.1 in c:\\users\\adam\\anaconda3\\lib\\site-packages (from qiskit-ibm-runtime) (1.8.0)\n",
      "Collecting ibm-platform-services>=0.22.6 (from qiskit-ibm-runtime)\n",
      "  Downloading ibm_platform_services-0.61.1-py3-none-any.whl.metadata (9.0 kB)\n",
      "Collecting pydantic<2.10,>=2.5.0 (from qiskit-ibm-runtime)\n",
      "  Downloading pydantic-2.9.2-py3-none-any.whl.metadata (149 kB)\n",
      "Requirement already satisfied: qiskit>=1.4.1 in c:\\users\\adam\\anaconda3\\lib\\site-packages (from qiskit-ibm-runtime) (1.4.1)\n",
      "Requirement already satisfied: packaging in c:\\users\\adam\\anaconda3\\lib\\site-packages (from qiskit-ibm-runtime) (24.2)\n",
      "Collecting ibm_cloud_sdk_core<4.0.0,>=3.22.1 (from ibm-platform-services>=0.22.6->qiskit-ibm-runtime)\n",
      "  Downloading ibm_cloud_sdk_core-3.23.0-py3-none-any.whl.metadata (8.7 kB)\n",
      "Requirement already satisfied: annotated-types>=0.6.0 in c:\\users\\adam\\anaconda3\\lib\\site-packages (from pydantic<2.10,>=2.5.0->qiskit-ibm-runtime) (0.6.0)\n",
      "Collecting pydantic-core==2.23.4 (from pydantic<2.10,>=2.5.0->qiskit-ibm-runtime)\n",
      "  Downloading pydantic_core-2.23.4-cp39-none-win_amd64.whl.metadata (6.7 kB)\n",
      "Requirement already satisfied: typing-extensions>=4.6.1 in c:\\users\\adam\\anaconda3\\lib\\site-packages (from pydantic<2.10,>=2.5.0->qiskit-ibm-runtime) (4.12.2)\n",
      "Requirement already satisfied: six>=1.5 in c:\\users\\adam\\anaconda3\\lib\\site-packages (from python-dateutil>=2.8.0->qiskit-ibm-runtime) (1.16.0)\n",
      "Requirement already satisfied: rustworkx>=0.15.0 in c:\\users\\adam\\anaconda3\\lib\\site-packages (from qiskit>=1.4.1->qiskit-ibm-runtime) (0.16.0)\n",
      "Requirement already satisfied: scipy>=1.5 in c:\\users\\adam\\anaconda3\\lib\\site-packages (from qiskit>=1.4.1->qiskit-ibm-runtime) (1.10.0)\n",
      "Requirement already satisfied: sympy>=1.3 in c:\\users\\adam\\anaconda3\\lib\\site-packages (from qiskit>=1.4.1->qiskit-ibm-runtime) (1.13.1)\n",
      "Requirement already satisfied: dill>=0.3 in c:\\users\\adam\\anaconda3\\lib\\site-packages (from qiskit>=1.4.1->qiskit-ibm-runtime) (0.3.6)\n",
      "Requirement already satisfied: stevedore>=3.0.0 in c:\\users\\adam\\anaconda3\\lib\\site-packages (from qiskit>=1.4.1->qiskit-ibm-runtime) (5.4.1)\n",
      "Requirement already satisfied: symengine<0.14,>=0.11 in c:\\users\\adam\\anaconda3\\lib\\site-packages (from qiskit>=1.4.1->qiskit-ibm-runtime) (0.13.0)\n",
      "Requirement already satisfied: charset-normalizer<4,>=2 in c:\\users\\adam\\anaconda3\\lib\\site-packages (from requests>=2.19->qiskit-ibm-runtime) (3.3.2)\n",
      "Requirement already satisfied: idna<4,>=2.5 in c:\\users\\adam\\anaconda3\\lib\\site-packages (from requests>=2.19->qiskit-ibm-runtime) (3.7)\n",
      "Requirement already satisfied: certifi>=2017.4.17 in c:\\users\\adam\\anaconda3\\lib\\site-packages (from requests>=2.19->qiskit-ibm-runtime) (2025.1.31)\n",
      "Requirement already satisfied: cryptography>=1.3 in c:\\users\\adam\\anaconda3\\lib\\site-packages (from requests-ntlm>=1.1.0->qiskit-ibm-runtime) (38.0.4)\n",
      "Collecting pyspnego>=0.4.0 (from requests-ntlm>=1.1.0->qiskit-ibm-runtime)\n",
      "  Downloading pyspnego-0.11.2-py3-none-any.whl.metadata (5.4 kB)\n",
      "Requirement already satisfied: cffi>=1.12 in c:\\users\\adam\\anaconda3\\lib\\site-packages (from cryptography>=1.3->requests-ntlm>=1.1.0->qiskit-ibm-runtime) (1.17.1)\n",
      "Collecting urllib3>=1.21.1 (from qiskit-ibm-runtime)\n",
      "  Downloading urllib3-2.3.0-py3-none-any.whl.metadata (6.5 kB)\n",
      "Requirement already satisfied: PyJWT<3.0.0,>=2.8.0 in c:\\users\\adam\\anaconda3\\lib\\site-packages (from ibm_cloud_sdk_core<4.0.0,>=3.22.1->ibm-platform-services>=0.22.6->qiskit-ibm-runtime) (2.10.1)\n",
      "Collecting sspilib>=0.1.0 (from pyspnego>=0.4.0->requests-ntlm>=1.1.0->qiskit-ibm-runtime)\n",
      "  Downloading sspilib-0.2.0-cp39-cp39-win_amd64.whl.metadata (7.5 kB)\n",
      "Requirement already satisfied: pbr>=2.0.0 in c:\\users\\adam\\anaconda3\\lib\\site-packages (from stevedore>=3.0.0->qiskit>=1.4.1->qiskit-ibm-runtime) (6.1.1)\n",
      "Requirement already satisfied: mpmath<1.4,>=1.1.0 in c:\\users\\adam\\anaconda3\\lib\\site-packages (from sympy>=1.3->qiskit>=1.4.1->qiskit-ibm-runtime) (1.3.0)\n",
      "Requirement already satisfied: pycparser in c:\\users\\adam\\anaconda3\\lib\\site-packages (from cffi>=1.12->cryptography>=1.3->requests-ntlm>=1.1.0->qiskit-ibm-runtime) (2.21)\n",
      "Requirement already satisfied: setuptools in c:\\users\\adam\\anaconda3\\lib\\site-packages (from pbr>=2.0.0->stevedore>=3.0.0->qiskit>=1.4.1->qiskit-ibm-runtime) (75.8.0)\n",
      "Downloading qiskit_ibm_runtime-0.37.0-py3-none-any.whl (3.1 MB)\n",
      "   ---------------------------------------- 0.0/3.1 MB ? eta -:--:--\n",
      "   ---------------------------------------- 3.1/3.1 MB 90.0 MB/s eta 0:00:00\n",
      "Downloading ibm_platform_services-0.61.1-py3-none-any.whl (346 kB)\n",
      "Downloading pydantic-2.9.2-py3-none-any.whl (434 kB)\n",
      "Downloading pydantic_core-2.23.4-cp39-none-win_amd64.whl (1.9 MB)\n",
      "   ---------------------------------------- 0.0/1.9 MB ? eta -:--:--\n",
      "   ---------------------------------------- 1.9/1.9 MB 110.5 MB/s eta 0:00:00\n",
      "Downloading requests_ntlm-1.3.0-py3-none-any.whl (6.6 kB)\n",
      "Downloading ibm_cloud_sdk_core-3.23.0-py3-none-any.whl (69 kB)\n",
      "Downloading urllib3-2.3.0-py3-none-any.whl (128 kB)\n",
      "Downloading pyspnego-0.11.2-py3-none-any.whl (130 kB)\n",
      "Downloading sspilib-0.2.0-cp39-cp39-win_amd64.whl (570 kB)\n",
      "   ---------------------------------------- 0.0/570.1 kB ? eta -:--:--\n",
      "   --------------------------------------- 570.1/570.1 kB 19.2 MB/s eta 0:00:00\n",
      "Installing collected packages: urllib3, sspilib, pydantic-core, pydantic, pyspnego, ibm_cloud_sdk_core, requests-ntlm, ibm-platform-services, qiskit-ibm-runtime\n",
      "  Attempting uninstall: urllib3\n",
      "    Found existing installation: urllib3 1.26.19\n",
      "    Uninstalling urllib3-1.26.19:\n",
      "      Successfully uninstalled urllib3-1.26.19\n",
      "  Attempting uninstall: pydantic-core\n",
      "    Found existing installation: pydantic_core 2.27.1\n",
      "    Uninstalling pydantic_core-2.27.1:\n",
      "      Successfully uninstalled pydantic_core-2.27.1\n",
      "  Attempting uninstall: pydantic\n",
      "    Found existing installation: pydantic 1.10.12\n",
      "    Uninstalling pydantic-1.10.12:\n",
      "      Successfully uninstalled pydantic-1.10.12\n",
      "Successfully installed ibm-platform-services-0.61.1 ibm_cloud_sdk_core-3.23.0 pydantic-2.10.3 pydantic-core-2.23.4 pyspnego-0.11.2 qiskit-ibm-runtime-0.37.0 requests-ntlm-1.3.0 sspilib-0.2.0 urllib3-2.3.0\n",
      "Note: you may need to restart the kernel to use updated packages.\n"
     ]
    },
    {
     "name": "stderr",
     "output_type": "stream",
     "text": [
      "ERROR: pip's dependency resolver does not currently take into account all the packages that are installed. This behaviour is the source of the following dependency conflicts.\n",
      "botocore 1.36.3 requires urllib3<1.27,>=1.25.4; python_version < \"3.10\", but you have urllib3 2.3.0 which is incompatible.\n",
      "confection 0.1.0 requires pydantic!=1.8,!=1.8.1,<1.11.0,>=1.7.4, but you have pydantic 2.9.2 which is incompatible.\n",
      "spacy 3.6.0 requires pydantic!=1.8,!=1.8.1,<1.11.0,>=1.7.4, but you have pydantic 2.9.2 which is incompatible.\n",
      "thinc 8.1.10 requires pydantic!=1.8,!=1.8.1,<1.11.0,>=1.7.4, but you have pydantic 2.9.2 which is incompatible.\n"
     ]
    }
   ],
   "source": [
    "pip install qiskit-ibm-runtime"
   ]
  },
  {
   "cell_type": "code",
   "execution_count": 4,
   "metadata": {},
   "outputs": [
    {
     "ename": "ImportError",
     "evalue": "cannot import name 'execute' from 'qiskit' (c:\\Users\\Adam\\anaconda3\\lib\\site-packages\\qiskit\\__init__.py)",
     "output_type": "error",
     "traceback": [
      "\u001b[1;31m---------------------------------------------------------------------------\u001b[0m",
      "\u001b[1;31mImportError\u001b[0m                               Traceback (most recent call last)",
      "\u001b[1;32m~\\AppData\\Local\\Temp\\ipykernel_44836\\728111687.py\u001b[0m in \u001b[0;36m<module>\u001b[1;34m\u001b[0m\n\u001b[0;32m      1\u001b[0m \u001b[1;31m# Import the Qiskit packages\u001b[0m\u001b[1;33m\u001b[0m\u001b[1;33m\u001b[0m\u001b[0m\n\u001b[1;32m----> 2\u001b[1;33m \u001b[1;32mfrom\u001b[0m \u001b[0mqiskit\u001b[0m \u001b[1;32mimport\u001b[0m \u001b[0mQuantumCircuit\u001b[0m\u001b[1;33m,\u001b[0m \u001b[0mexecute\u001b[0m\u001b[1;33m,\u001b[0m \u001b[0mBasicAer\u001b[0m\u001b[1;33m\u001b[0m\u001b[1;33m\u001b[0m\u001b[0m\n\u001b[0m\u001b[0;32m      3\u001b[0m \u001b[1;32mfrom\u001b[0m \u001b[0mqiskit\u001b[0m\u001b[1;33m.\u001b[0m\u001b[0mvisualization\u001b[0m \u001b[1;32mimport\u001b[0m \u001b[0mplot_histogram\u001b[0m\u001b[1;33m\u001b[0m\u001b[1;33m\u001b[0m\u001b[0m\n\u001b[0;32m      4\u001b[0m \u001b[1;33m\u001b[0m\u001b[0m\n\u001b[0;32m      5\u001b[0m \u001b[1;31m# Create a quantum circuit with 2 qubits and 2 classical bits\u001b[0m\u001b[1;33m\u001b[0m\u001b[1;33m\u001b[0m\u001b[0m\n",
      "\u001b[1;31mImportError\u001b[0m: cannot import name 'execute' from 'qiskit' (c:\\Users\\Adam\\anaconda3\\lib\\site-packages\\qiskit\\__init__.py)"
     ]
    }
   ],
   "source": [
    "# Import the Qiskit packages\n",
    "from qiskit import QuantumCircuit, execute, BasicAer\n",
    "from qiskit.visualization import plot_histogram\n",
    "\n",
    "# Create a quantum circuit with 2 qubits and 2 classical bits\n",
    "qc = QuantumCircuit(2, 2)\n",
    "\n",
    "# Add a Hadamard gate to qubit 0 (puts it in superposition)\n",
    "qc.h(0)\n",
    "\n",
    "# Add a CNOT gate with control qubit 0 and target qubit 1 (creates entanglement)\n",
    "qc.cx(0, 1)\n",
    "\n",
    "# Measure both qubits\n",
    "qc.measure([0, 1], [0, 1])\n",
    "\n",
    "# Draw the circuit\n",
    "print(\"Quantum Circuit:\")\n",
    "print(qc.draw())\n",
    "\n",
    "# Use the BasicAer simulator (compatible with older Qiskit versions)\n",
    "simulator = BasicAer.get_backend('qasm_simulator')\n",
    "\n",
    "# Run the circuit on the simulator\n",
    "job = execute(qc, simulator, shots=1000)\n",
    "\n",
    "# Get the result\n",
    "result = job.result()\n",
    "\n",
    "# Get the counts (measurement outcomes)\n",
    "counts = result.get_counts()\n",
    "print(\"\\nMeasurement results:\", counts)\n",
    "\n",
    "# Print a simple interpretation\n",
    "print(\"\\nHello Quantum World!\")\n",
    "print(\"This circuit created a Bell state, where qubits 0 and 1 are entangled.\")\n",
    "print(\"The results show that when we measure, we always see both qubits in the same state:\")\n",
    "print(\"Either both 0 ('00') or both 1 ('11').\")\n",
    "\n",
    "# Uncomment to show a histogram (requires matplotlib)\n",
    "# plot_histogram(counts)"
   ]
  },
  {
   "cell_type": "code",
   "execution_count": 5,
   "metadata": {},
   "outputs": [
    {
     "name": "stdout",
     "output_type": "stream",
     "text": [
      "Requirement already satisfied: qiskit in c:\\users\\adam\\anaconda3\\lib\\site-packages (1.4.1)\n",
      "Requirement already satisfied: rustworkx>=0.15.0 in c:\\users\\adam\\anaconda3\\lib\\site-packages (from qiskit) (0.16.0)\n",
      "Requirement already satisfied: numpy<3,>=1.17 in c:\\users\\adam\\anaconda3\\lib\\site-packages (from qiskit) (1.24.4)\n",
      "Requirement already satisfied: scipy>=1.5 in c:\\users\\adam\\anaconda3\\lib\\site-packages (from qiskit) (1.10.0)\n",
      "Requirement already satisfied: sympy>=1.3 in c:\\users\\adam\\anaconda3\\lib\\site-packages (from qiskit) (1.13.1)\n",
      "Requirement already satisfied: dill>=0.3 in c:\\users\\adam\\anaconda3\\lib\\site-packages (from qiskit) (0.3.6)\n",
      "Requirement already satisfied: python-dateutil>=2.8.0 in c:\\users\\adam\\anaconda3\\lib\\site-packages (from qiskit) (2.9.0.post0)\n",
      "Requirement already satisfied: stevedore>=3.0.0 in c:\\users\\adam\\anaconda3\\lib\\site-packages (from qiskit) (5.4.1)\n",
      "Requirement already satisfied: typing-extensions in c:\\users\\adam\\anaconda3\\lib\\site-packages (from qiskit) (4.12.2)\n",
      "Requirement already satisfied: symengine<0.14,>=0.11 in c:\\users\\adam\\anaconda3\\lib\\site-packages (from qiskit) (0.13.0)\n",
      "Requirement already satisfied: six>=1.5 in c:\\users\\adam\\anaconda3\\lib\\site-packages (from python-dateutil>=2.8.0->qiskit) (1.16.0)\n",
      "Requirement already satisfied: pbr>=2.0.0 in c:\\users\\adam\\anaconda3\\lib\\site-packages (from stevedore>=3.0.0->qiskit) (6.1.1)\n",
      "Requirement already satisfied: mpmath<1.4,>=1.1.0 in c:\\users\\adam\\anaconda3\\lib\\site-packages (from sympy>=1.3->qiskit) (1.3.0)\n",
      "Requirement already satisfied: setuptools in c:\\users\\adam\\anaconda3\\lib\\site-packages (from pbr>=2.0.0->stevedore>=3.0.0->qiskit) (75.8.0)\n",
      "Note: you may need to restart the kernel to use updated packages.\n"
     ]
    }
   ],
   "source": [
    "pip install --upgrade qiskit"
   ]
  },
  {
   "cell_type": "code",
   "execution_count": 6,
   "metadata": {},
   "outputs": [
    {
     "name": "stdout",
     "output_type": "stream",
     "text": [
      "Quantum Circuit:\n",
      "     ┌───┐     ┌─┐   \n",
      "q_0: ┤ H ├──■──┤M├───\n",
      "     └───┘┌─┴─┐└╥┘┌─┐\n",
      "q_1: ─────┤ X ├─╫─┤M├\n",
      "          └───┘ ║ └╥┘\n",
      "c: 2/═══════════╩══╩═\n",
      "                0  1 \n"
     ]
    }
   ],
   "source": [
    "# Import just the essential Qiskit components\n",
    "from qiskit import QuantumCircuit\n",
    "\n",
    "# Create a quantum circuit with 2 qubits and 2 classical bits\n",
    "qc = QuantumCircuit(2, 2)\n",
    "\n",
    "# Add a Hadamard gate to qubit 0 (puts it in superposition)\n",
    "qc.h(0)\n",
    "\n",
    "# Add a CNOT gate with control qubit 0 and target qubit 1 (creates entanglement)\n",
    "qc.cx(0, 1)\n",
    "\n",
    "# Measure both qubits\n",
    "qc.measure([0, 1], [0, 1])\n",
    "\n",
    "# Draw the circuit\n",
    "print(\"Quantum Circuit:\")\n",
    "print(qc.draw())"
   ]
  },
  {
   "cell_type": "code",
   "execution_count": null,
   "metadata": {},
   "outputs": [
    {
     "name": "stdout",
     "output_type": "stream",
     "text": [
      "     ┌───┐┌─┐\n",
      "  q: ┤ H ├┤M├\n",
      "     └───┘└╥┘\n",
      "c: 1/══════╩═\n",
      "           0 \n",
      "Hello Quantum World!\n"
     ]
    }
   ],
   "source": [
    "# Create a 1-qubit circuit\n",
    "qc = QuantumCircuit(1, 1)\n",
    "\n",
    "# Apply a Hadamard gate (creates superposition)\n",
    "qc.h(0)\n",
    "\n",
    "# Measure the qubit\n",
    "qc.measure(0, 0)\n",
    "\n",
    "# Draw the circuit\n",
    "print(qc.draw())\n",
    "print(\"Hello Quantum World!\")"
   ]
  },
  {
   "cell_type": "code",
   "execution_count": 8,
   "metadata": {},
   "outputs": [
    {
     "ename": "ImportError",
     "evalue": "cannot import name 'Aer' from 'qiskit' (c:\\Users\\Adam\\anaconda3\\lib\\site-packages\\qiskit\\__init__.py)",
     "output_type": "error",
     "traceback": [
      "\u001b[1;31m---------------------------------------------------------------------------\u001b[0m",
      "\u001b[1;31mImportError\u001b[0m                               Traceback (most recent call last)",
      "\u001b[1;32m~\\AppData\\Local\\Temp\\ipykernel_44836\\2178869175.py\u001b[0m in \u001b[0;36m<module>\u001b[1;34m\u001b[0m\n\u001b[1;32m----> 1\u001b[1;33m \u001b[1;32mfrom\u001b[0m \u001b[0mqiskit\u001b[0m \u001b[1;32mimport\u001b[0m \u001b[0mAer\u001b[0m\u001b[1;33m,\u001b[0m \u001b[0mexecute\u001b[0m\u001b[1;33m\u001b[0m\u001b[1;33m\u001b[0m\u001b[0m\n\u001b[0m",
      "\u001b[1;31mImportError\u001b[0m: cannot import name 'Aer' from 'qiskit' (c:\\Users\\Adam\\anaconda3\\lib\\site-packages\\qiskit\\__init__.py)"
     ]
    }
   ],
   "source": [
    "from qiskit import Aer, execute"
   ]
  },
  {
   "cell_type": "code",
   "execution_count": null,
   "metadata": {},
   "outputs": [
    {
     "data": {
      "image/png": "[encoded data removed]",
      "text/plain": [
       "<Figure size 287.294x200.667 with 1 Axes>"
      ]
     },
     "execution_count": 1,
     "metadata": {},
     "output_type": "execute_result"
    }
   ],
   "source": [
    "from qiskit import QuantumCircuit\n",
    "from qiskit.quantum_info import SparsePauliOp\n",
    "from qiskit.transpiler.preset_passmanagers import generate_preset_pass_manager\n",
    "from qiskit_ibm_runtime import EstimatorV2 as Estimator\n",
    "\n",
    "# Create a new circuit with two qubits\n",
    "qc = QuantumCircuit(2)\n",
    "\n",
    "# Add a Hadamard gate to qubit 0\n",
    "qc.h(0)\n",
    "\n",
    "# Perform a controlled-X gate on qubit 1, controlled by qubit 0\n",
    "qc.cx(0, 1)\n",
    "\n",
    "# Return a drawing of the circuit using MatPlotLib (\"mpl\"). This is the\n",
    "# last line of the cell, so the drawing appears in the cell output.\n",
    "# Remove the \"mpl\" argument to get a text drawing.\n",
    "qc.draw(\"mpl\")"
   ]
  },
  {
   "cell_type": "code",
   "execution_count": 10,
   "metadata": {},
   "outputs": [
    {
     "name": "stdout",
     "output_type": "stream",
     "text": [
      "Collecting pylatexenc\n",
      "  Downloading pylatexenc-2.10.tar.gz (162 kB)\n",
      "  Preparing metadata (setup.py): started\n",
      "  Preparing metadata (setup.py): finished with status 'done'\n",
      "Building wheels for collected packages: pylatexenc\n",
      "  Building wheel for pylatexenc (setup.py): started\n",
      "  Building wheel for pylatexenc (setup.py): finished with status 'done'\n",
      "  Created wheel for pylatexenc: filename=pylatexenc-2.10-py3-none-any.whl size=136895 sha256=07a1f1e5b423dafb1ff069da321ea893d28060250b5d118680dcc441c56d87f2\n",
      "  Stored in directory: c:\\users\\adam\\appdata\\local\\pip\\cache\\wheels\\a3\\68\\66\\2f15abd0673d83c02f354115feedeb89c3daed2ac319b11090\n",
      "Successfully built pylatexenc\n",
      "Installing collected packages: pylatexenc\n",
      "Successfully installed pylatexenc-2.10\n",
      "Note: you may need to restart the kernel to use updated packages.\n"
     ]
    }
   ],
   "source": [
    "pip install pylatexenc"
   ]
  }
 ],
 "metadata": {
  "kernelspec": {
   "display_name": "base",
   "language": "python",
   "name": "python3"
  },
  "language_info": {
   "codemirror_mode": {
    "name": "ipython",
    "version": 3
   },
   "file_extension": ".py",
   "mimetype": "text/x-python",
   "name": "python",
   "nbconvert_exporter": "python",
   "pygments_lexer": "ipython3",
   "version": "3.9.13"
  }
 },
 "nbformat": 4,
 "nbformat_minor": 2
}
